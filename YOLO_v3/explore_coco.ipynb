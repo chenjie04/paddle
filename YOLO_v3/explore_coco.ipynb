{
 "metadata": {
  "language_info": {
   "codemirror_mode": {
    "name": "ipython",
    "version": 3
   },
   "file_extension": ".py",
   "mimetype": "text/x-python",
   "name": "python",
   "nbconvert_exporter": "python",
   "pygments_lexer": "ipython3",
   "version": "3.7.9-final"
  },
  "orig_nbformat": 2,
  "kernelspec": {
   "name": "python3",
   "display_name": "Python 3.7.9 64-bit ('paddle_cpu': conda)",
   "metadata": {
    "interpreter": {
     "hash": "a346bdd7a72a0426b1aae3e6810cb733a5d7c2325b65207f9d065f136bad6655"
    }
   }
  }
 },
 "nbformat": 4,
 "nbformat_minor": 2,
 "cells": [
  {
   "source": [
    "# 探索COCO数据集"
   ],
   "cell_type": "markdown",
   "metadata": {}
  },
  {
   "source": [
    "探索coco数据集，理解数据标注格式"
   ],
   "cell_type": "markdown",
   "metadata": {}
  },
  {
   "cell_type": "code",
   "execution_count": 2,
   "metadata": {},
   "outputs": [],
   "source": [
    "%matplotlib inline \n",
    "from pycocotools.coco import COCO  \n",
    "import numpy as np \n",
    "import skimage.io as io \n",
    "import matplotlib.pyplot as plt \n",
    "import pylab # matplotlib的一个模块，用于二维、三维图像绘制\n",
    "pylab.rcParams['figure.figsize'] = (8.0,10.0) # 设置画布大小"
   ]
  },
  {
   "cell_type": "code",
   "execution_count": null,
   "metadata": {},
   "outputs": [],
   "source": []
  }
 ]
}